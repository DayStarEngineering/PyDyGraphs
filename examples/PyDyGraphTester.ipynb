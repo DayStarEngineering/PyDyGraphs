{
 "metadata": {
  "name": "",
  "signature": "sha256:37caa5f06b7f4da31df438b4f2c0f071c5f964d5b7af5d10b0ebc807bc3f3f88"
 },
 "nbformat": 3,
 "nbformat_minor": 0,
 "worksheets": [
  {
   "cells": [
    {
     "cell_type": "code",
     "collapsed": false,
     "input": [
      "# Import pydygraphs and numpy\n",
      "import sys\n",
      "sys.path.append(\"../\")\n",
      "\n",
      "import pydygraphs\n",
      "import numpy as np"
     ],
     "language": "python",
     "metadata": {},
     "outputs": []
    },
    {
     "cell_type": "code",
     "collapsed": false,
     "input": [
      "# Single Figure Example\n",
      "fig = pydygraphs.figure(width = 600, height = 400)\n",
      "\n",
      "# Form data for plot\n",
      "x = np.array(range(1000))\n",
      "y = [np.sin(np.random.rand(1000)),-np.sin(np.random.rand(1000))]\n",
      "\n",
      "# Plot figure\n",
      "fig.plot(x,y, color=['navy','magenta'])\n",
      "fig.title(\"Figure 1\")\n",
      "fig.xlabel('Series')\n",
      "fig.ylabel('Value')\n",
      "\n",
      "# Show figure:\n",
      "fig.show()"
     ],
     "language": "python",
     "metadata": {},
     "outputs": []
    },
    {
     "cell_type": "code",
     "collapsed": false,
     "input": [
      "# Subplot example\n",
      "[fig1],[fig2] = pydygraphs.subplot(2,1, title=\"PyDyGraphs Example Subplot\")\n",
      "\n",
      "# Form data for plot 1\n",
      "x = np.array(range(100))\n",
      "y1 = [np.sin(np.array(range(100)) * np.pi / 180.), np.sin(np.array(range(100)) * np.pi / 360)]\n",
      "\n",
      "# Plot figure 1\n",
      "fig1.plot(x,y1)\n",
      "fig1.title(\"Figure 1\")\n",
      "fig1.xlabel('Series')\n",
      "fig1.ylabel('Value')\n",
      "\n",
      "# Form data for plot 2\n",
      "y2 = [np.sin(np.random.rand(100))]\n",
      "\n",
      "# Plot figure 2\n",
      "fig2.plot(x, y2, ylabels=[\"Random Variable\"], color=['orange'], rangeselector=True, showroller=False)\n",
      "fig2.title(\"Figure 2\")\n",
      "fig2.xlabel('Series')\n",
      "fig2.ylabel('Value')\n",
      "\n",
      "# Show plots:\n",
      "fig1.show()\n",
      "fig2.show()"
     ],
     "language": "python",
     "metadata": {},
     "outputs": []
    },
    {
     "cell_type": "code",
     "collapsed": false,
     "input": [
      "print pydygraphs.__PYDYGRAPH__DYGRAPHS_LIB_STRING__"
     ],
     "language": "python",
     "metadata": {},
     "outputs": []
    },
    {
     "cell_type": "raw",
     "metadata": {},
     "source": []
    }
   ],
   "metadata": {}
  }
 ]
}